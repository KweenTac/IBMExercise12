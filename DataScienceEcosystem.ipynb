{
 "cells": [
  {
   "cell_type": "markdown",
   "id": "e4ebc852-dc3b-4b28-85b5-293e41a1e2e6",
   "metadata": {},
   "source": [
    "# Data Science Tools and Ecosystem"
   ]
  },
  {
   "cell_type": "markdown",
   "id": "2d46c8bc-403d-448d-8b30-d7f4fe57f0cb",
   "metadata": {},
   "source": [
    "   "
   ]
  },
  {
   "cell_type": "markdown",
   "id": "0b1c9564-33d4-4abd-8c97-7da22537783d",
   "metadata": {},
   "source": [
    "## Author\n",
    "Natasha Campbell"
   ]
  },
  {
   "cell_type": "markdown",
   "id": "8b6804d5-dd3b-4b1a-ae59-eb60bc7c3691",
   "metadata": {},
   "source": [
    " "
   ]
  },
  {
   "cell_type": "markdown",
   "id": "4fe7a1ba-5ac5-433c-a630-611d1916020f",
   "metadata": {},
   "source": [
    "### In this notebook, Data Science Tools and Ecosystem are summarized."
   ]
  },
  {
   "cell_type": "markdown",
   "id": "5673e3cf-5867-4e46-ac6e-76e448aec563",
   "metadata": {},
   "source": [
    "**Objectives:**\n",
    "* Create a Jupyter Notebook\n",
    "* Create a markdown cell to list data science libraries\n",
    "* Create a markdown cell introducing arithmetic expression examples\n",
    "* Insert a markdown cell to list Objectives"
   ]
  },
  {
   "cell_type": "markdown",
   "id": "4ed80c85-aa6d-4056-b22d-6d840943ce2e",
   "metadata": {},
   "source": [
    "Some of the popular languages that Data Scientists use are:\n",
    "1. Python\n",
    "2. R\n",
    "3. SQL"
   ]
  },
  {
   "cell_type": "markdown",
   "id": "f4acd3fb-4e3f-4eea-919e-7d95410fec3e",
   "metadata": {},
   "source": [
    "Some of the commonly used libraries used by Data Scientists include:\n",
    "1. NumPy\n",
    "2. Pandas\n",
    "3. Matplotlib"
   ]
  },
  {
   "cell_type": "markdown",
   "id": "bee2b38e-6d60-4ae9-9a67-1fefcbe3a3ea",
   "metadata": {},
   "source": [
    "|Data Science Tools|\n",
    "-------------------\n",
    "|Anaconda|\n",
    "|RStudio|\n",
    "|Git Hub|"
   ]
  },
  {
   "cell_type": "markdown",
   "id": "69138d42-bc0d-45f8-a89d-1902a06ccb56",
   "metadata": {},
   "source": [
    " "
   ]
  },
  {
   "cell_type": "markdown",
   "id": "25b806e9-1afe-4703-bc6f-222cdad174fd",
   "metadata": {},
   "source": [
    "### Below are a few examples of evaluating arithmetic expressions in Python"
   ]
  },
  {
   "cell_type": "markdown",
   "id": "6cd74f8b-fda4-49a1-b9eb-339e8d5c4cae",
   "metadata": {},
   "source": [
    "This a simple arithmetic expression to mutiply then add integers"
   ]
  },
  {
   "cell_type": "code",
   "execution_count": 3,
   "id": "48e7e84c-ca03-493e-9659-47f07c7f83fe",
   "metadata": {},
   "outputs": [
    {
     "data": {
      "text/plain": [
       "17"
      ]
     },
     "execution_count": 3,
     "metadata": {},
     "output_type": "execute_result"
    }
   ],
   "source": [
    "(3*4)+5"
   ]
  },
  {
   "cell_type": "markdown",
   "id": "f34d30b8-c1ca-4ad8-9e9c-f011ca0d230c",
   "metadata": {},
   "source": [
    "This will convert 200 minutes to hours by dividing by 60"
   ]
  },
  {
   "cell_type": "code",
   "execution_count": 14,
   "id": "213586bd-24f8-4afa-adf4-8e8066d1e321",
   "metadata": {},
   "outputs": [
    {
     "name": "stdout",
     "output_type": "stream",
     "text": [
      "3.3333333333333335\n"
     ]
    }
   ],
   "source": [
    "print (200/60)"
   ]
  },
  {
   "cell_type": "markdown",
   "id": "ad4d435f-bce8-48aa-9e63-7f9950823c26",
   "metadata": {},
   "source": [
    " "
   ]
  }
 ],
 "metadata": {
  "kernelspec": {
   "display_name": "Python 3 (ipykernel)",
   "language": "python",
   "name": "python3"
  },
  "language_info": {
   "codemirror_mode": {
    "name": "ipython",
    "version": 3
   },
   "file_extension": ".py",
   "mimetype": "text/x-python",
   "name": "python",
   "nbconvert_exporter": "python",
   "pygments_lexer": "ipython3",
   "version": "3.11.7"
  }
 },
 "nbformat": 4,
 "nbformat_minor": 5
}
